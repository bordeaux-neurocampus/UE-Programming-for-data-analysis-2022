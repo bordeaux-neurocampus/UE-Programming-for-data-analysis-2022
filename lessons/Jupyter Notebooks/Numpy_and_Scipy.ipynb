{
 "cells": [
  {
   "cell_type": "markdown",
   "metadata": {},
   "source": [
    "# Scientific computing course: NumPy and SciPy"
   ]
  },
  {
   "cell_type": "markdown",
   "metadata": {},
   "source": [
    "## **Introduction to numerical computing**\n",
    "\n",
    "NumPy (Python library): creating and manipulating numerical data.\n",
    "NumPy provides a high-performance multidimensional array object, and tools for working with these arrays. \\\n",
    "References and detailed documentation can be found: https://numpy.org/doc/."
   ]
  },
  {
   "cell_type": "code",
   "execution_count": 2,
   "metadata": {},
   "outputs": [],
   "source": [
    "#Importing the library- Convention\n",
    "import numpy as np"
   ]
  },
  {
   "cell_type": "markdown",
   "metadata": {},
   "source": [
    "*_Memory efficient container that provides fast numerical operations._*"
   ]
  },
  {
   "cell_type": "code",
   "execution_count": 3,
   "metadata": {},
   "outputs": [
    {
     "name": "stdout",
     "output_type": "stream",
     "text": [
      "391 µs ± 76.4 µs per loop (mean ± std. dev. of 7 runs, 1000 loops each)\n",
      "890 ns ± 27.1 ns per loop (mean ± std. dev. of 7 runs, 1000000 loops each)\n"
     ]
    }
   ],
   "source": [
    "L = range(1000)\n",
    "%timeit [i**2 for i in L]\n",
    "\n",
    "#time it takes using numpy\n",
    "a = np.arange(1000)\n",
    "%timeit a**2"
   ]
  },
  {
   "cell_type": "markdown",
   "metadata": {},
   "source": [
    "In a NumPy array, the number of dimensions is the rank of the array; the shape of an array is a tuple of integers giving the size of the array along each dimension. \\\n",
    "<a id=\"1darrays\" ></a>\n",
    "**_1D arrays_**"
   ]
  },
  {
   "cell_type": "code",
   "execution_count": 4,
   "metadata": {},
   "outputs": [
    {
     "name": "stdout",
     "output_type": "stream",
     "text": [
      "The array you first created is: [0 1 2 3 4]\n",
      "The type of the array is  <class 'numpy.ndarray'>\n",
      "The dimensions of the array are: 1\n",
      "The shape of the array is: (5,)\n",
      "The length of the array is: 5\n",
      "The first, second and third elements of the array are: 0 1 2\n"
     ]
    }
   ],
   "source": [
    "a = np.array([0,1,2,3,4]) #rank 1 array\n",
    "print(\"The array you first created is:\" , a)\n",
    "print(\"The type of the array is \", type(a))\n",
    "print(\"The dimensions of the array are:\", a.ndim)\n",
    "print(\"The shape of the array is:\", a.shape)\n",
    "print(\"The length of the array is:\", len(a))\n",
    "print(\"The first, second and third elements of the array are:\", a[0], a[1], a[2])"
   ]
  },
  {
   "cell_type": "code",
   "execution_count": 5,
   "metadata": {},
   "outputs": [
    {
     "name": "stdout",
     "output_type": "stream",
     "text": [
      "The array after modification is: [10  1  2  3  4]\n"
     ]
    }
   ],
   "source": [
    "#Changing elements in the array\n",
    "a[0] = 10 \n",
    "print(\"The array after modification is:\",  a)"
   ]
  },
  {
   "cell_type": "markdown",
   "metadata": {},
   "source": [
    " <a id=\"multi\" ></a>\n",
    "**_Multidimensional Arrays_**"
   ]
  },
  {
   "cell_type": "code",
   "execution_count": 6,
   "metadata": {},
   "outputs": [
    {
     "name": "stdout",
     "output_type": "stream",
     "text": [
      "The array you created is: [[1 2 3]\n",
      " [4 5 6]]\n",
      "The dimensions of the array are: 2\n",
      "The shape of the array is: (2, 3)\n",
      "The first, second and third columns of the array: [1 4] [2 5] [3 6]\n",
      "The first and second rows of the array: [1 2 3] [4 5 6]\n",
      "The array you first is: [[[1]\n",
      "  [2]]\n",
      "\n",
      " [[3]\n",
      "  [4]]]\n",
      "The dimensions of the array are: 3\n",
      "The shape of the array is: (2, 2, 1)\n"
     ]
    }
   ],
   "source": [
    "#2D arrays\n",
    "b = np.array([[1,2,3],[4,5,6]])    # Create a rank 2 array\n",
    "print(\"The array you created is:\" , b)\n",
    "print(\"The dimensions of the array are:\", b.ndim)\n",
    "print(\"The shape of the array is:\", b.shape)\n",
    "print(\"The first, second and third columns of the array:\", b[:,0], b[:,1], b[:,2])\n",
    "print(\"The first and second rows of the array:\", b[0,:], b[1,:]) \n",
    "\n",
    "#3D arrays\n",
    "c = np.array([[[1], [2]], [[3], [4]]])\n",
    "print(\"The array you first is:\" , c)\n",
    "print(\"The dimensions of the array are:\", c.ndim)\n",
    "print(\"The shape of the array is:\", c.shape)"
   ]
  },
  {
   "cell_type": "markdown",
   "metadata": {},
   "source": [
    "_Exercise_\n",
    "* Create a simple two dimensional array. First, redo the examples from above. And then create your own: how about odd numbers counting backwards on the first row, and even numbers on the second? \n",
    "\n",
    "* Use the functions len(), numpy.shape() on these arrays. How do they relate to each other? And to the ndim attribute of the arrays?"
   ]
  },
  {
   "cell_type": "markdown",
   "metadata": {},
   "source": [
    "**_Main functions for creating arrays_** \n",
    "* np.arange, np.linspace, \n",
    "* np.ones, np.zeros, np.full, np.eye, \n",
    "* np.random.rand, np.random.randn etc."
   ]
  },
  {
   "cell_type": "code",
   "execution_count": 7,
   "metadata": {},
   "outputs": [
    {
     "name": "stdout",
     "output_type": "stream",
     "text": [
      "[1 3 5 7]\n",
      "[0.  0.2 0.4 0.6 0.8 1. ]\n",
      "[0.  0.2 0.4 0.6 0.8]\n"
     ]
    }
   ],
   "source": [
    "#np.arange and np.linspace\n",
    "a = np.arange(1, 9, 2) # start, end (exclusive), step\n",
    "print(a)\n",
    "\n",
    "\n",
    "b = np.linspace(0, 1, 6)   # start, end, num-points\n",
    "print(b)\n",
    "c = np.linspace(0, 1, 5, endpoint=False)\n",
    "print(c)"
   ]
  },
  {
   "cell_type": "code",
   "execution_count": 8,
   "metadata": {},
   "outputs": [
    {
     "name": "stdout",
     "output_type": "stream",
     "text": [
      "[[0. 0. 0.]\n",
      " [0. 0. 0.]\n",
      " [0. 0. 0.]] Shape of array: (3, 3)\n",
      "[[1. 1.]\n",
      " [1. 1.]] Shape of array: (2, 2)\n",
      "[[7 7]\n",
      " [7 7]] Shape of array: (2, 2)\n"
     ]
    }
   ],
   "source": [
    "a_ = np.zeros((3, 3)) #array of zeros with a defined shape (3,3)\n",
    "print(a_, \"Shape of array:\", a_.shape)\n",
    "\n",
    "b_ = np.ones((2, 2))  #array of ones with a defined shape (2,2)\n",
    "print(b_, \"Shape of array:\", b_.shape)\n",
    "\n",
    "c_ = np.full((2,2), 7) #array of (2,2) of 7s \n",
    "print(c_, \"Shape of array:\", c_.shape)"
   ]
  },
  {
   "cell_type": "code",
   "execution_count": 9,
   "metadata": {},
   "outputs": [
    {
     "name": "stdout",
     "output_type": "stream",
     "text": [
      "[[1. 0. 0.]\n",
      " [0. 1. 0.]\n",
      " [0. 0. 1.]] Shape of array: (3, 3)\n",
      "[[1 0 0 0]\n",
      " [0 2 0 0]\n",
      " [0 0 3 0]\n",
      " [0 0 0 4]] Shape of array: (4, 4)\n"
     ]
    }
   ],
   "source": [
    "d_ = np.eye(3) #identity matrix, only diagonal is 1\n",
    "print(d_,\"Shape of array:\", d_.shape)\n",
    "\n",
    "e_ = np.diag(np.array([1, 2, 3, 4])) #diagonal is equal to the elements of the array\n",
    "print(e_,\"Shape of array:\", e_.shape)"
   ]
  },
  {
   "cell_type": "code",
   "execution_count": 10,
   "metadata": {},
   "outputs": [
    {
     "name": "stdout",
     "output_type": "stream",
     "text": [
      "[0.18788603 0.72535506 0.77815678 0.37550623]\n",
      "[ 1.07239493 -1.46757863  2.30644566  1.22948879]\n"
     ]
    }
   ],
   "source": [
    "a__ = np.random.rand(4)       # uniform in [0, 1]\n",
    "print(a__)\n",
    "\n",
    "b__ = np.random.randn(4)      # Gaussian\n",
    "print(b__)"
   ]
  },
  {
   "cell_type": "markdown",
   "metadata": {},
   "source": [
    "#### **Indexing and Slicing** \n",
    "_Indices begin at 0, like other Python sequences (and C/C++). In contrast, in  Matlab, indices begin at 1._"
   ]
  },
  {
   "cell_type": "code",
   "execution_count": 11,
   "metadata": {},
   "outputs": [
    {
     "name": "stdout",
     "output_type": "stream",
     "text": [
      "Original array a: [0 1 2 3 4 5 6 7 8 9]\n",
      "0 2 6\n",
      "Using the index ::-1, you can print the reverse of the original array: [9 8 7 6 5 4 3 2 1 0]\n"
     ]
    }
   ],
   "source": [
    "a = np.arange(10)\n",
    "print(\"Original array a:\", a)\n",
    "print(a[0], a[2], a[6])  #first, third and seventh element of the array\n",
    "print(\"Using the index ::-1, you can print the reverse of the original array:\",  a[::-1])"
   ]
  },
  {
   "cell_type": "markdown",
   "metadata": {},
   "source": [
    "**_Slicing_** \\\n",
    "\\\n",
    "Slicing an array requires specifying the start, end and step of the slicing. If not specified, they are set to the default values: by default, start is 0, end is the last and step is 1:"
   ]
  },
  {
   "cell_type": "code",
   "execution_count": 12,
   "metadata": {},
   "outputs": [
    {
     "name": "stdout",
     "output_type": "stream",
     "text": [
      "[0 1 2 3 4 5 6 7 8 9]\n",
      "[2 5 8]\n",
      "Going through the elements with a step of 2: [0 2 4 6 8]\n",
      "[1 2]\n",
      "The first 4 elements of the array: [0 1 2 3]\n",
      "[4 5 6 7 8 9]\n"
     ]
    }
   ],
   "source": [
    "#slicing\n",
    "print(a)\n",
    "print(a[2:9:3]) #start, end, step\n",
    "print(\"Going through the elements with a step of 2:\", a[::2]) #start and end are not included, so by default they are the first and last element, last index: step = 2\n",
    "print(a[1:3]) #start and end are specified, step is taken as 1 by default\n",
    "\n",
    "print(\"The first 4 elements of the array:\", a[:4])\n",
    "print(a[4:]) #start is specified, end & step by default"
   ]
  },
  {
   "cell_type": "markdown",
   "metadata": {},
   "source": [
    "**_Indexing in Multidimensional Arrays_**"
   ]
  },
  {
   "cell_type": "code",
   "execution_count": 13,
   "metadata": {},
   "outputs": [
    {
     "name": "stdout",
     "output_type": "stream",
     "text": [
      "[[0 0 0]\n",
      " [0 1 0]\n",
      " [0 0 2]]\n",
      "The element in the third row, second column of the matrix is: 0\n",
      "The element in the third row, third column of the matrix is: 2\n",
      "The element in the first row, third column of the matrix is: 0\n"
     ]
    }
   ],
   "source": [
    "a_ = np.diag(np.arange(3))\n",
    "print(a_)\n",
    "#First index is row, second is column\n",
    "print(\"The element in the third row, second column of the matrix is:\", a_[2,1])\n",
    "print(\"The element in the third row, third column of the matrix is:\", a_[2,2])\n",
    "print(\"The element in the first row, third column of the matrix is:\", a_[0,2])"
   ]
  },
  {
   "cell_type": "markdown",
   "metadata": {},
   "source": [
    "_Exercise_\n",
    "* Try to implement slicing in the 2D array."
   ]
  },
  {
   "cell_type": "markdown",
   "metadata": {},
   "source": [
    "_Note:_ By modifying the view (the sliced version of the array), the original array is modified as well. To prevent this, you have to save the view as a copy and perfom all modification in the copy."
   ]
  },
  {
   "cell_type": "markdown",
   "metadata": {},
   "source": [
    "### **Numerical Operations in NumPy**"
   ]
  },
  {
   "cell_type": "markdown",
   "metadata": {},
   "source": [
    "**Elementwise Operations** \n",
    "Addition, Subtraction, Multiplication, Division"
   ]
  },
  {
   "cell_type": "code",
   "execution_count": 14,
   "metadata": {},
   "outputs": [
    {
     "name": "stdout",
     "output_type": "stream",
     "text": [
      "Addition with a scalar:  [1 2 3 4]\n",
      "Subtraction by a scalar:  [-2 -1  0  1]\n",
      "Multiplication to a scalar:  [0 2 4 6]\n",
      "Division by a scalar:  [0 1 2 3] [0.  0.5 1.  1.5]\n"
     ]
    }
   ],
   "source": [
    "#one array and a scalar\n",
    "a = np.array([0,1,2,3])\n",
    "print(\"Addition with a scalar: \", a+1)\n",
    "print(\"Subtraction by a scalar: \", a-2)\n",
    "print(\"Multiplication to a scalar: \",a*2)\n",
    "print(\"Division by a scalar: \", a, a/2)"
   ]
  },
  {
   "cell_type": "code",
   "execution_count": 15,
   "metadata": {},
   "outputs": [
    {
     "name": "stdout",
     "output_type": "stream",
     "text": [
      "Adding the two arrays: [10 12 14 16]\n",
      "Subtracting between the two arrays: [10 10 10 10]\n",
      "Multiplying the two arrays: [ 0 11 24 39]\n",
      "Division between the two arrays: [0.         0.09090909 0.16666667 0.23076923]\n"
     ]
    }
   ],
   "source": [
    "#between 2 arrays\n",
    "b = np.array([10,11,12,13])\n",
    "print(\"Adding the two arrays:\",  a + b)\n",
    "print(\"Subtracting between the two arrays:\",  b - a)\n",
    "print(\"Multiplying the two arrays:\",  a * b)\n",
    "print(\"Division between the two arrays:\",  a/b)"
   ]
  },
  {
   "cell_type": "markdown",
   "metadata": {},
   "source": [
    "**Matrix Multiplication and Transposition** "
   ]
  },
  {
   "cell_type": "code",
   "execution_count": 16,
   "metadata": {},
   "outputs": [
    {
     "name": "stdout",
     "output_type": "stream",
     "text": [
      "[[6. 6. 6. 6.]\n",
      " [6. 6. 6. 6.]\n",
      " [6. 6. 6. 6.]]\n",
      "(3, 4)\n"
     ]
    }
   ],
   "source": [
    "x = np.ones((3,2))\n",
    "y = np.full((2,4),3)\n",
    "product_matrix = np.dot(x,y)\n",
    "\n",
    "print(product_matrix)\n",
    "print(product_matrix.shape)"
   ]
  },
  {
   "cell_type": "code",
   "execution_count": 17,
   "metadata": {},
   "outputs": [
    {
     "name": "stdout",
     "output_type": "stream",
     "text": [
      "(3, 3)\n"
     ]
    }
   ],
   "source": [
    "a = np.arange(9).reshape(3,3)\n",
    "print(a.shape)"
   ]
  },
  {
   "cell_type": "code",
   "execution_count": 18,
   "metadata": {},
   "outputs": [
    {
     "name": "stdout",
     "output_type": "stream",
     "text": [
      "The original matrix: [[0 1 2]\n",
      " [3 4 5]\n",
      " [6 7 8]]\n",
      "The transpose of the built matrix: [[0 3 6]\n",
      " [1 4 7]\n",
      " [2 5 8]]\n"
     ]
    }
   ],
   "source": [
    "print(\"The original matrix:\", a)\n",
    "print(\"The transpose of the built matrix:\", a.T)"
   ]
  },
  {
   "cell_type": "markdown",
   "metadata": {},
   "source": [
    "**Other Operations**"
   ]
  },
  {
   "cell_type": "code",
   "execution_count": 19,
   "metadata": {},
   "outputs": [
    {
     "name": "stdout",
     "output_type": "stream",
     "text": [
      "[False False False]\n",
      "[ True  True  True]\n"
     ]
    }
   ],
   "source": [
    "a = np.zeros(3)\n",
    "b = np.ones(3)\n",
    "print(a == b)\n",
    "print(a < b)"
   ]
  },
  {
   "cell_type": "code",
   "execution_count": 20,
   "metadata": {},
   "outputs": [
    {
     "name": "stdout",
     "output_type": "stream",
     "text": [
      "[10  4  2 20 99]\n",
      "Sum of all the elements of the array is: 135\n",
      "The minimum value in the array is: 2\n",
      "The largest value in the array is: 99\n",
      "The index of the minimum value: 2\n",
      "The index of the maximum value: 4\n",
      "True\n",
      "True\n"
     ]
    }
   ],
   "source": [
    "x = np.array([10,4,2,20,99])\n",
    "print(x)\n",
    "print(\"Sum of all the elements of the array is:\", x.sum())\n",
    "print(\"The minimum value in the array is:\", x.min())\n",
    "print(\"The largest value in the array is:\", x.max())\n",
    "print(\"The index of the minimum value:\", x.argmin())\n",
    "print(\"The index of the maximum value:\", x.argmax())\n",
    "\n",
    "#x.argmin() is the index; the below 2 lines confirm whether the array[index] is equal to the actual minima/maxima of the array\n",
    "print(x[x.argmin()] == x.min())\n",
    "print(x[x.argmax()] == x.max())"
   ]
  },
  {
   "cell_type": "code",
   "execution_count": 21,
   "metadata": {},
   "outputs": [
    {
     "name": "stdout",
     "output_type": "stream",
     "text": [
      "The mean of the array: 27.0\n",
      "The median of the array: 10.0\n",
      "The standard deviation of the array: 36.540388613149695\n"
     ]
    }
   ],
   "source": [
    "print(\"The mean of the array:\", x.mean())\n",
    "print(\"The median of the array:\", np.median(x))\n",
    "print(\"The standard deviation of the array:\", np.std(x))"
   ]
  },
  {
   "cell_type": "code",
   "execution_count": 22,
   "metadata": {},
   "outputs": [
    {
     "name": "stdout",
     "output_type": "stream",
     "text": [
      "[[0 1 2]\n",
      " [3 4 5]]\n",
      "[3 5 7]\n"
     ]
    }
   ],
   "source": [
    "y = np.arange(6).reshape(2,3)\n",
    "print(y)\n",
    "print(y.sum(axis = 0))"
   ]
  },
  {
   "cell_type": "code",
   "execution_count": 23,
   "metadata": {},
   "outputs": [
    {
     "name": "stdout",
     "output_type": "stream",
     "text": [
      "(2, 2, 2)\n",
      "(2, 2)\n"
     ]
    }
   ],
   "source": [
    "z = np.random.rand(2,2,2)\n",
    "print(z.shape)\n",
    "print(z.sum(axis = 2).shape)"
   ]
  },
  {
   "cell_type": "markdown",
   "metadata": {},
   "source": [
    "### **Loading Data Files** "
   ]
  },
  {
   "cell_type": "code",
   "execution_count": 24,
   "metadata": {},
   "outputs": [
    {
     "name": "stdout",
     "output_type": "stream",
     "text": [
      "[[0.8942906  0.78499592]\n",
      " [0.21595153 0.84285449]\n",
      " [0.64265636 0.59601965]\n",
      " [0.30252376 0.76362267]\n",
      " [0.92106043 0.54410365]\n",
      " [0.50496653 0.64014029]\n",
      " [0.44662453 0.61993841]\n",
      " [0.16860538 0.1344766 ]\n",
      " [0.55864153 0.65201158]\n",
      " [0.7199038  0.05455403]]\n"
     ]
    }
   ],
   "source": [
    "random_data = np.random.rand(10,2)\n",
    "np.save('random_data.npy', random_data) #same for text files, but just use np.savetxt\n",
    "print(random_data)"
   ]
  },
  {
   "cell_type": "code",
   "execution_count": 25,
   "metadata": {},
   "outputs": [
    {
     "name": "stdout",
     "output_type": "stream",
     "text": [
      "[[0.8942906  0.78499592]\n",
      " [0.21595153 0.84285449]\n",
      " [0.64265636 0.59601965]\n",
      " [0.30252376 0.76362267]\n",
      " [0.92106043 0.54410365]\n",
      " [0.50496653 0.64014029]\n",
      " [0.44662453 0.61993841]\n",
      " [0.16860538 0.1344766 ]\n",
      " [0.55864153 0.65201158]\n",
      " [0.7199038  0.05455403]]\n"
     ]
    }
   ],
   "source": [
    "my_data = np.load('random_data.npy') #same for text files, but just use np.loadtxt\n",
    "print(my_data)"
   ]
  },
  {
   "cell_type": "markdown",
   "metadata": {},
   "source": [
    "# SciPy\n",
    "The SciPy package contains various toolboxes dedicated to common issues in scientific computing. Its different submodules correspond to different applications, such as interpolation, integration, optimization, image processing, statistics, special functions, etc.\\\n",
    "It  is the core package for scientific routines in Python; it is meant to operate efficiently on numpy arrays, so that numpy and scipy work hand in hand. Scipy’s routines are optimized and tested, and should therefore be used when possible."
   ]
  },
  {
   "cell_type": "code",
   "execution_count": 26,
   "metadata": {},
   "outputs": [
    {
     "data": {
      "text/plain": [
       "array([[1., 1., 1., 1.],\n",
       "       [1., 1., 1., 1.],\n",
       "       [1., 1., 1., 1.],\n",
       "       [1., 1., 1., 1.]])"
      ]
     },
     "execution_count": 26,
     "metadata": {},
     "output_type": "execute_result"
    }
   ],
   "source": [
    "#scipy.io\n",
    "from scipy import io as spio\n",
    "array = np.ones((4, 4))\n",
    "spio.savemat('example.mat', {'ar': array}) \n",
    "data = spio.loadmat('example.mat', struct_as_record=True)\n",
    "data['ar']"
   ]
  },
  {
   "cell_type": "code",
   "execution_count": 27,
   "metadata": {},
   "outputs": [
    {
     "name": "stdout",
     "output_type": "stream",
     "text": [
      "-2.0\n",
      "[[-2.   1. ]\n",
      " [ 1.5 -0.5]]\n",
      "[-0.37228132+0.j  5.37228132+0.j] [[-0.82456484 -0.41597356]\n",
      " [ 0.56576746 -0.90937671]]\n"
     ]
    }
   ],
   "source": [
    "#scipy.linalg\n",
    "from scipy import linalg\n",
    "matrix = np.array([[1,2],[3,4]])\n",
    "matrix_determinant = linalg.det(matrix)\n",
    "matrix_inverse = linalg.inv(matrix)\n",
    "eig_val, eig_vec = linalg.eig(matrix)\n",
    "\n",
    "print(matrix_determinant)\n",
    "print(matrix_inverse)\n",
    "print(eig_val, eig_vec)"
   ]
  },
  {
   "cell_type": "code",
   "execution_count": 87,
   "metadata": {},
   "outputs": [
    {
     "name": "stdout",
     "output_type": "stream",
     "text": [
      "[[3 2]\n",
      " [6 4]]\n",
      "0\n"
     ]
    }
   ],
   "source": [
    "new_matrix = np.array([[3,2],[6,4]])\n",
    "matrix_determinant = linalg.det(new_matrix)\n",
    "print(new_matrix)\n",
    "print(int(matrix_determinant))\n",
    "\n",
    "# matrix_inverse = linalg.inv(new_matrix)"
   ]
  },
  {
   "cell_type": "code",
   "execution_count": 30,
   "metadata": {},
   "outputs": [
    {
     "data": {
      "text/plain": [
       "Ttest_indResult(statistic=-3.9974065522862583, pvalue=0.00011739153960429217)"
      ]
     },
     "execution_count": 30,
     "metadata": {},
     "output_type": "execute_result"
    }
   ],
   "source": [
    "#scipy.stats\n",
    "from scipy import stats\n",
    "a = np.random.normal(0, 1, size=100)\n",
    "b = np.random.normal(1, 1, size=10)\n",
    "stats.ttest_ind(a, b)  "
   ]
  },
  {
   "cell_type": "markdown",
   "metadata": {},
   "source": [
    "### Intro to Signal Processing, Sampling and Curve Fitting\n",
    "In signal processing, sampling is the reduction of a continuous-time signal to a discrete-time signal. Sampling can be done for functions varying in space, time, or any other dimension, and similar results are obtained in two or more dimensions.\n",
    "\n",
    "For functions that vary with time, let s(t) be a continuous function (or \"signal\") to be sampled, and let sampling be performed by measuring the value of the continuous function every T seconds, which is called the sampling interval or the sampling period. Then the sampled function is given by the sequence:\n",
    "s(nT),   for integer values of n.\n",
    "The sampling frequency or sampling rate, fs, is the average number of samples obtained in one second, thus fs = 1/T. Its units are samples per second or hertz e.g. 48 kHz is 48,000 samples per second.\n",
    "\n",
    "Reconstructing a continuous function from samples is done by interpolation algorithms.\n",
    "\n",
    "Figure: Signal sampling representation is done in the figure below. The continuous signal S(t) is represented with a green colored line while the discrete samples are indicated by the blue vertical lines.  <img align = center src=\"Desktop/Signal_Sampling.png\"  />\n",
    "\n"
   ]
  },
  {
   "cell_type": "code",
   "execution_count": 86,
   "metadata": {},
   "outputs": [
    {
     "data": {
      "text/plain": [
       "<matplotlib.legend.Legend at 0x7fb6ce556be0>"
      ]
     },
     "execution_count": 86,
     "metadata": {},
     "output_type": "execute_result"
    },
    {
     "data": {
      "image/png": "[encoded data removed]",
      "text/plain": [
       "<Figure size 432x288 with 1 Axes>"
      ]
     },
     "metadata": {
      "needs_background": "light"
     },
     "output_type": "display_data"
    }
   ],
   "source": [
    "t = np.linspace(0, 5, 100)\n",
    "x = np.sin(t)\n",
    "from scipy import signal\n",
    "import matplotlib.pyplot as plt\n",
    "x_resampled = signal.resample(x, 25)\n",
    "x_resampled_2 = signal.resample(x, 10)\n",
    "plt.plot(t, x, label = \"Original signal\") \n",
    "plt.plot(t[::4], x_resampled, '.', label = 'Resampled signal') \n",
    "plt.plot(t[::10], x_resampled_2, '*', label = 'Resampled signal 2') \n",
    "\n",
    "plt.legend()"
   ]
  },
  {
   "cell_type": "markdown",
   "metadata": {},
   "source": [
    "### Linear Interpolation\n",
    "\n",
    "Linear interpolation is a method of curve fitting using linear polynomials to construct new data points within the range of a discrete set of known data points.\n",
    "If the two known points are given by the coordinates ($x_0$, $y_0$) and ($x_1, y_1$) the linear interpolant is the straight line between these points. For a value x in the interval ($x_0, x_1$), the value y along the straight line is given from the equation of slopes.\n",
    "\\begin{align}\n",
    "\\frac{y- y_0}{x-x_0} = \\frac{y_1-y_0}{x_1-x_0}\n",
    "\\end{align}\n",
    "Solving the equation for y, gives the formula for linear interpolation in the interval ($x_0, x_1$).\n",
    "\\begin{align}\n",
    "y = y_0\\frac{x_1-x}{x_1-x_0}+ y_1 \\frac{x-x0}{x_1-x_0}\n",
    "\\end{align}\n",
    "\n",
    "Linear interpolation is often used to approximate a value of some function f using two known values of that function at other points.\n",
    "\n",
    "**_In the context of data analysis, it is useful for fitting a function from experimental data and thus evaluating points where no measure exists._**"
   ]
  },
  {
   "cell_type": "code",
   "execution_count": 88,
   "metadata": {},
   "outputs": [
    {
     "data": {
      "text/plain": [
       "(10,)"
      ]
     },
     "execution_count": 88,
     "metadata": {},
     "output_type": "execute_result"
    },
    {
     "data": {
      "image/png": "[encoded data removed]",
      "text/plain": [
       "<Figure size 432x288 with 1 Axes>"
      ]
     },
     "metadata": {
      "needs_background": "light"
     },
     "output_type": "display_data"
    }
   ],
   "source": [
    "#scipy.interpolate\n",
    "import matplotlib.pyplot as plt\n",
    "from scipy.interpolate import interp1d\n",
    "sampling_points = np.linspace(0, 1, 10)\n",
    "noise = (np.random.random(10)*2 - 1) * 1e-1\n",
    "datapoints = np.sin(2 * np.pi * sampling_points) + noise\n",
    "plt.plot(sampling_points,datapoints,\"*\")\n",
    "datapoints.shape"
   ]
  },
  {
   "cell_type": "code",
   "execution_count": 41,
   "metadata": {},
   "outputs": [
    {
     "data": {
      "text/plain": [
       "<matplotlib.legend.Legend at 0x7fb6cc993bb0>"
      ]
     },
     "execution_count": 41,
     "metadata": {},
     "output_type": "execute_result"
    },
    {
     "data": {
      "image/png": "[encoded data removed]",
      "text/plain": [
       "<Figure size 432x288 with 1 Axes>"
      ]
     },
     "metadata": {
      "needs_background": "light"
     },
     "output_type": "display_data"
    }
   ],
   "source": [
    "linear_interp = interp1d(sampling_points, datapoints)\n",
    "interpolation_time = np.linspace(0, 1, 50)\n",
    "linear_results = linear_interp(interpolation_time)\n",
    "cubic_interp = interp1d(sampling_points, datapoints, kind='cubic')\n",
    "cubic_results = cubic_interp(interpolation_time)\n",
    "\n",
    "plt.plot(interpolation_time, cubic_results,  label = \"Cubic interpolation\")\n",
    "plt.plot(interpolation_time, linear_results, label = \"Linear interpolation\")\n",
    "plt.plot(sampling_points, datapoints,\".\", label = \"Data points\")\n",
    "plt.legend()\n"
   ]
  },
  {
   "cell_type": "markdown",
   "metadata": {},
   "source": [
    "### Curve fitting\n",
    "Curve fitting is a type of optimization that finds an optimal set of parameters for a defined function that best fits a given set of observations.\n",
    "\n",
    "Unlike supervised learning, curve fitting requires that you define the function that maps examples of inputs to outputs.\n",
    "\n",
    "The mapping function, also called the basis function can have any form you like, including a straight line (linear regression), a curved line (polynomial regression), and much more. This provides the flexibility and control to define the form of the curve, where an optimization process is used to find the specific optimal parameters of the function.\n",
    "The scipy.optimize module provides algorithms for function minimization (scalar or multi-dimensional), curve fitting and root finding."
   ]
  },
  {
   "cell_type": "code",
   "execution_count": 73,
   "metadata": {},
   "outputs": [
    {
     "data": {
      "text/plain": [
       "[<matplotlib.lines.Line2D at 0x7fb6cd61ea00>]"
      ]
     },
     "execution_count": 73,
     "metadata": {},
     "output_type": "execute_result"
    },
    {
     "data": {
      "image/png": "[encoded data removed]",
      "text/plain": [
       "<Figure size 432x288 with 1 Axes>"
      ]
     },
     "metadata": {
      "needs_background": "light"
     },
     "output_type": "display_data"
    }
   ],
   "source": [
    "from scipy import optimize\n",
    "x = np.linspace(0,10,15)\n",
    "y = np.linspace(0,10,15) + np.random.normal(size = 15)\n",
    "def function(x,a,b):\n",
    "    return a*x + b\n",
    "\n",
    "params, params_covariance = optimize.curve_fit(function, x, y)\n",
    "a,b = params\n",
    "plt.plot(x, y, \".\")\n",
    "plt.plot(x, function(x, params[0], params[1]))"
   ]
  },
  {
   "cell_type": "code",
   "execution_count": 75,
   "metadata": {},
   "outputs": [
    {
     "name": "stdout",
     "output_type": "stream",
     "text": [
      "[2.93910599 1.54563228]\n"
     ]
    },
    {
     "data": {
      "text/plain": [
       "[<matplotlib.lines.Line2D at 0x7fb6ccfdba60>]"
      ]
     },
     "execution_count": 75,
     "metadata": {},
     "output_type": "execute_result"
    },
    {
     "data": {
      "image/png": "[encoded data removed]",
      "text/plain": [
       "<Figure size 432x288 with 1 Axes>"
      ]
     },
     "metadata": {
      "needs_background": "light"
     },
     "output_type": "display_data"
    }
   ],
   "source": [
    "from scipy import optimize\n",
    "x_data = np.linspace(-5,5,num = 50)\n",
    "y_data = 2.9 * np.sin(1.5 * x_data) + np.random.normal(size = 50)\n",
    "def test_func(x,a,b):\n",
    "    return a*np.sin(b*x)\n",
    "\n",
    "params, params_covariance = optimize.curve_fit(test_func, x_data, y_data)\n",
    "print(params)\n",
    "a,b = params\n",
    "plt.plot(x_data, y_data, \".\")\n",
    "plt.plot(x_data, test_func(x_data, params[0], params[1]))"
   ]
  }
 ],
 "metadata": {
  "kernelspec": {
   "display_name": "Python 3 (ipykernel)",
   "language": "python",
   "name": "python3"
  },
  "language_info": {
   "codemirror_mode": {
    "name": "ipython",
    "version": 3
   },
   "file_extension": ".py",
   "mimetype": "text/x-python",
   "name": "python",
   "nbconvert_exporter": "python",
   "pygments_lexer": "ipython3",
   "version": "3.8.5"
  },
  "vscode": {
   "interpreter": {
    "hash": "40d3a090f54c6569ab1632332b64b2c03c39dcf918b08424e98f38b5ae0af88f"
   }
  }
 },
 "nbformat": 4,
 "nbformat_minor": 2
}
