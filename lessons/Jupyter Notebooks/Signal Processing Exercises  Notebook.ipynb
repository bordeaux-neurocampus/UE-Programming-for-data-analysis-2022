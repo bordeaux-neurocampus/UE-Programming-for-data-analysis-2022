{
 "cells": [
  {
   "cell_type": "markdown",
   "id": "fa44c391",
   "metadata": {},
   "source": [
    "## Exercises\n",
    "\n",
    "### 5.1 Draw the three basic signals $\\delta[n]$, $u[n]$, $r[t]$ in the range $n \\in [-5,5]$"
   ]
  },
  {
   "cell_type": "code",
   "execution_count": null,
   "id": "b4927eeb",
   "metadata": {},
   "outputs": [],
   "source": [
    "# Imports\n",
    "import numpy as np\n",
    "import matplotlib.pyplot as plt\n",
    "import matplotlib.cm as cm\n",
    "\n",
    "# Ask jupyter to display plots inline\n",
    "%matplotlib inline\n",
    "\n",
    "# OSX specific (for a nicer display on \"retina\" screen)\n",
    "%config InlineBackend.figure_format = 'retina'\n",
    "\n",
    "# make a plotting function\n",
    "def sigplot(x,sig,ylabel=''):\n",
    "    _, ax = plt.subplots(figsize=(10,5))\n",
    "    ax.stem(x,sig)\n",
    "    ax.set_xlim((-5,5)) # range n in [-5,5]\n",
    "    ax.set_xlabel('n')\n",
    "    ax.set_ylabel(ylabel)\n",
    "    ax.grid()\n",
    "    return ax"
   ]
  },
  {
   "cell_type": "code",
   "execution_count": null,
   "id": "80028a57",
   "metadata": {},
   "outputs": [],
   "source": [
    "# First, make our x-vector\n",
    "x = np.arange(-16,17)\n",
    "\n",
    "# delta signal: create the signal \n",
    "#FILL IN\n",
    "#FILL IN\n",
    "\n",
    "ax1 = sigplot(..., ..., ylabel='$\\delta$[n]') #plot the signal, FILL IN the ...\n",
    "plt.show(ax1)"
   ]
  },
  {
   "cell_type": "code",
   "execution_count": null,
   "id": "3bfa9360",
   "metadata": {},
   "outputs": [],
   "source": [
    "# square u[n] signal: create the signal\n",
    "#FILL IN \n",
    "#FILL IN \n",
    "\n",
    "ax2 = sigplot(..., ...,'u[n]') #plotting\n",
    "plt.show(ax2)"
   ]
  },
  {
   "cell_type": "code",
   "execution_count": null,
   "id": "dfdb1681",
   "metadata": {},
   "outputs": [],
   "source": [
    "# ramp signal r[n]: create the signal\n",
    "#FILL IN\n",
    "#FILL IN\n",
    "\n",
    "ax3 = sigplot(..., ...,'r[n]') #plotting FILL IN\n",
    "ax3.set_ylim((0,5))\n",
    "plt.show(ax3)"
   ]
  },
  {
   "cell_type": "markdown",
   "id": "5fa8fc2b",
   "metadata": {},
   "source": [
    "### 5.2 Draw the signal $y[n] = u[n] - u[n-3]$"
   ]
  },
  {
   "cell_type": "code",
   "execution_count": null,
   "id": "8fa73944",
   "metadata": {},
   "outputs": [],
   "source": [
    "# We already have the signal u[n], let's make the delayed signal u[n-3]:\n",
    "u = ... #FILL IN\n",
    "u3 = ... #FILL IN\n",
    "y = u-u3\n",
    "\n",
    "ax4 = sigplot(..., ...,'y[n]') #plotting FILL IN\n",
    "plt.show(ax4)"
   ]
  },
  {
   "cell_type": "markdown",
   "id": "3f949f1a",
   "metadata": {},
   "source": [
    "### 5.3 Draw the signal $y[n] = 3(u[n] - u[n-3])$"
   ]
  },
  {
   "cell_type": "code",
   "execution_count": null,
   "id": "3c472aaf",
   "metadata": {},
   "outputs": [],
   "source": [
    "#Build a signal which is basically a scaling of our previous y[n] by a factor of 3\n",
    "y2 = ... #FILL IN\n",
    "\n",
    "# For this plot, we will plot both signals y and y2 at the same time\n",
    "plt.stem(..., ... ,linefmt='r-',markerfmt='r*',label='y\\'=3y') #plotting FILL IN\n",
    "plt.stem(..., ...,linefmt='b-',markerfmt='b*',label='y') #plotting FILL IN\n",
    "plt.xlim((-5,5)) # range n in [-5,5]\n",
    "plt.xlabel('n')\n",
    "plt.grid()\n",
    "plt.legend()\n",
    "plt.show()"
   ]
  },
  {
   "cell_type": "markdown",
   "id": "00b5c23e",
   "metadata": {},
   "source": [
    "### 5.4 Draw the signal $y[n] = \\frac{2}{3}r[n-3])$"
   ]
  },
  {
   "cell_type": "code",
   "execution_count": null,
   "id": "4f8d06db",
   "metadata": {},
   "outputs": [],
   "source": [
    "# We already have the signal r[n], let's make the scaled and delayed signal\n",
    "r2 = np.concatenate((np.zeros((1,3)),r[True,:-3]),axis=1)\n",
    "y3 = ... #FILL IN\n",
    "\n",
    "ax5 = sigplot(..., ...,'y3[n]') #plotting FILL IN\n",
    "ax5.set_ylim((0,5))\n",
    "ax5.set_xlim((0,10))\n",
    "plt.show(ax5)"
   ]
  },
  {
   "cell_type": "markdown",
   "id": "9f258f57",
   "metadata": {},
   "source": [
    "### 5.5 Draw the signal $y[n] = − \\delta[n]+ \\delta[n−1]− \\frac{1}{2} u[n−3]+ \\frac{1}{2} u[n−6]$"
   ]
  },
  {
   "cell_type": "code",
   "execution_count": null,
   "id": "ce0a034e",
   "metadata": {},
   "outputs": [],
   "source": [
    "# We already have all of the basic signals, let's make the others\n",
    "delta1 = ... #FILL IN; use np.concatenate \n",
    "u6 = ... #FILL IN; use np.concatenate \n",
    "y = ... #FILL IN; the above equation\n",
    "\n",
    "ax5 = sigplot(... , ...,'y[n]') #plotting  FILL IN\n",
    "ax5.set_ylim((-2,2))\n",
    "ax5.set_xlim((-1,6))\n",
    "plt.show(ax5)"
   ]
  },
  {
   "cell_type": "markdown",
   "id": "1d849cf0",
   "metadata": {},
   "source": [
    "### 5.6 Even vs odd signals\n",
    "\n",
    "For the final exercise, we will write two functions that check if the input signal is even or odd. You can use the solutions above to draw the signals, as most of them have been already provided. "
   ]
  },
  {
   "cell_type": "code",
   "execution_count": null,
   "id": "a5b54857",
   "metadata": {},
   "outputs": [],
   "source": [
    "# Function iseven():\n",
    "def iseven(sig):\n",
    "    sig_rev = sig[::-1]\n",
    "    return np.all(sig == sig_rev)\n",
    "\n",
    "# Function isodd()\n",
    "def isodd(sig):\n",
    "    sig_rev = sig[::-1]\n",
    "    return np.all(sig == -sig_rev)\n",
    "\n",
    "#FILL IN; use the functions above to check if function delta is even, odd or neither\n",
    "#FILL IN; use the functions above to check if function u is even, odd or neither\n",
    "#FILL IN; use the functions above to check if function r is even, odd or neither\n",
    "\n",
    "x4 = np.arange(-5,6)\n",
    "u3p = np.zeros(x4.shape)\n",
    "u3p[x4+3>=0] = 1\n",
    "u3n = np.zeros(x4.shape)\n",
    "u3n[x4-3>=0] = 1\n",
    "#FILL IN; check if function u[n+3] - u[n-3] is even, odd or neither\n",
    "\n",
    "sigsin = ... #FILL IN; build function sin(pi n/5)\n",
    "#FILL IN; check if function sin(pi n/5) is even, odd or neither\n",
    "\n",
    "#plt.plot(x5,sigsin)"
   ]
  },
  {
   "cell_type": "markdown",
   "id": "07f97452",
   "metadata": {},
   "source": [
    "### 5.7 Show that the signal $Asin(2\\pi f n+\\phi)$ is periodic\n"
   ]
  },
  {
   "cell_type": "markdown",
   "id": "5541df91",
   "metadata": {},
   "source": [
    "### 5.8 Is the signal $y[n] = cos(\\frac{3 \\pi n}{12}) + cos(\\frac{\\pi n}{13})$ periodic?"
   ]
  },
  {
   "cell_type": "markdown",
   "id": "7e1a4cfb",
   "metadata": {},
   "source": [
    "### 5.9 Fit a cosine curve to the discrete periodic function in Example 1. Interpret the results when the sample size is lower (10 samples) vs higher (50 samples)."
   ]
  },
  {
   "cell_type": "code",
   "execution_count": null,
   "id": "b0b27f7f",
   "metadata": {},
   "outputs": [],
   "source": [
    "samples = ... #FILL IN \n",
    "\n",
    "x_data = np.linspace(-5,5,num = samples)\n",
    "y_data  = #FILL IN; function in Example 1\n",
    "\n",
    "def test_func(x_data,a,b):\n",
    "    return a*np.cos(b*x_data)\n",
    "\n",
    "params, params_covariance = ... #FILL IN; optimize.curve_fit\n",
    "fitted_data = ... #FILL IN\n",
    "\n",
    "#plotting the results of the original datapoints and the fitted curve\n",
    "plt.plot(x_data, y_data, \".\", label = \"The data\")\n",
    "plt.plot(x_data, fitted_data, label = \"Fitted curve\")\n",
    "plt.legend()"
   ]
  },
  {
   "cell_type": "markdown",
   "id": "f4266e0e",
   "metadata": {},
   "source": [
    "_Do the results change when you increase/decrease the number of samples?_"
   ]
  },
  {
   "cell_type": "markdown",
   "id": "643bb7f8",
   "metadata": {},
   "source": [
    "### 5.10 Fit a cosine curve to the function in Example 2. Interpret the results change when the sample size is lower (5, 10 samples) vs higher (50 samples). What are the differences you notice between the previous exercise's results and these? Try to explain."
   ]
  },
  {
   "cell_type": "code",
   "execution_count": null,
   "id": "1c11f3fd",
   "metadata": {},
   "outputs": [],
   "source": [
    "samples = ... #FILL IN \n",
    "x_data = np.linspace(-5,5,num = samples)\n",
    "y_data  = ... #FILL IN; function in Example 2\n",
    "\n",
    "def test_func(x_data,a,b):\n",
    "    return a*np.cos(b*x_data)\n",
    "\n",
    "params, params_covariance = ... #FILL IN; use optimize.curve_fit\n",
    "fitted_data = ... #FILL IN\n",
    "\n",
    "print(params)\n",
    "plt.plot(x_data, y_data, \".\", label = \"The data\")\n",
    "plt.plot(x_data, fitted_data, label = \"Fitted curve\")\n",
    "plt.legend()"
   ]
  }
 ],
 "metadata": {
  "kernelspec": {
   "display_name": "Python 3.8.5",
   "language": "python",
   "name": "python3"
  },
  "language_info": {
   "codemirror_mode": {
    "name": "ipython",
    "version": 3
   },
   "file_extension": ".py",
   "mimetype": "text/x-python",
   "name": "python",
   "nbconvert_exporter": "python",
   "pygments_lexer": "ipython3",
   "version": "3.8.5"
  },
  "vscode": {
   "interpreter": {
    "hash": "40d3a090f54c6569ab1632332b64b2c03c39dcf918b08424e98f38b5ae0af88f"
   }
  }
 },
 "nbformat": 4,
 "nbformat_minor": 5
}
